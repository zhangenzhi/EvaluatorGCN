{
 "nbformat": 4,
 "nbformat_minor": 2,
 "metadata": {
  "language_info": {
   "name": "python",
   "codemirror_mode": {
    "name": "ipython",
    "version": 3
   }
  },
  "orig_nbformat": 2,
  "file_extension": ".py",
  "mimetype": "text/x-python",
  "name": "python",
  "npconvert_exporter": "python",
  "pygments_lexer": "ipython3",
  "version": 3
 },
 "cells": [
  {
   "cell_type": "markdown",
   "execution_count": null,
   "metadata": {},
   "outputs": [],
   "source": [
    "# Git 分布式版本控制器\n",
    "\n",
    "Git 用于控制代码的的修改历史，就像是保存游戏一样，当对当前游戏进度不满意时，可以方便的回滚到之前的版本。\n",
    "其次，Git有利于多人分叉写代码，就像是一个游戏存档可以由多个玩家来玩，最后的发展不一样。\n",
    "由创建者创建的主干叫origin，分叉的内容叫branch。\n",
    "\n",
    "## 1.创建\n",
    "\n",
    "### git init \n",
    "在当前文件夹内初始化一个空的仓库(repository)\n",
    "\n",
    "### git init [name][url]\n",
    "远程初始化url，一个名为name的云端仓库\n",
    "\n",
    "### git remote add [name][url]\n",
    "将本地仓库链接至远程仓库，名字name，地址url\n",
    "\n",
    "## 2.增添版本\n",
    "### git add .\n",
    "将所有新增文件加入到版本树内\n",
    "\n",
    "### git commit -m \"message\"\n",
    "在添加到版本树内，打上“message”标签\n",
    "\n",
    "## 3.远程操作\n",
    "### git push\n",
    "将修改的代码推送到云端。\n",
    "\n",
    "### git pull\n",
    "从云端拽下来保存的代码。\n",
    "\n",
    "## 4.分支branch\n",
    "\n",
    "## 5.回滚\n",
    "\n"
   ]
  }
 ]
}